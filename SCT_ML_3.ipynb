{
  "cells": [
    {
      "cell_type": "code",
      "execution_count": null,
      "metadata": {
        "colab": {
          "base_uri": "https://localhost:8080/"
        },
        "id": "1t-LrpMZ37nH",
        "outputId": "5c203b39-6e1e-4b7e-93f1-4b7f29e8c0e5"
      },
      "outputs": [
        {
          "name": "stdout",
          "output_type": "stream",
          "text": [
            "Mounted at /content/drive\n"
          ]
        }
      ],
      "source": [
        "from google.colab import drive\n",
        "drive.mount('/content/drive')\n"
      ]
    },
    {
      "cell_type": "code",
      "execution_count": null,
      "metadata": {
        "id": "HLtktKGk4PQn"
      },
      "outputs": [],
      "source": [
        "import os\n",
        "import numpy as np\n",
        "import cv2\n",
        "from sklearn.model_selection import train_test_split\n",
        "from sklearn.svm import SVC\n",
        "from sklearn.metrics import classification_report, accuracy_score\n",
        "import matplotlib.pyplot as plt\n",
        "\n",
        "# Set the dataset path\n",
        "base_path = \"/content/drive/MyDrive/Cats_Dogs_ML_Dataset/train/train/\"\n",
        "\n"
      ]
    },
    {
      "cell_type": "code",
      "execution_count": null,
      "metadata": {
        "colab": {
          "base_uri": "https://localhost:8080/"
        },
        "id": "aeCZ2gSd6mV8",
        "outputId": "6ed3690a-c3ed-4310-f6a8-6ba90d24e381"
      },
      "outputs": [
        {
          "name": "stdout",
          "output_type": "stream",
          "text": [
            "Files inside /train/:\n",
            "['dog.911.jpg', 'dog.9110.jpg', 'dog.9111.jpg', 'dog.9112.jpg', 'dog.9113.jpg', 'dog.9114.jpg', 'dog.9115.jpg', 'dog.9116.jpg', 'dog.9117.jpg', 'dog.9118.jpg']\n"
          ]
        }
      ],
      "source": [
        "import os\n",
        "\n",
        "base_path = \"/content/drive/MyDrive/Cats_Dogs_ML_Dataset/train/train/\"\n",
        "\n",
        "\n",
        "files = os.listdir(base_path)\n",
        "\n",
        "print(\"Files inside /train/:\")\n",
        "print(files[:10])\n"
      ]
    },
    {
      "cell_type": "code",
      "execution_count": null,
      "metadata": {
        "colab": {
          "base_uri": "https://localhost:8080/"
        },
        "id": "3gUYGlB3IDrS",
        "outputId": "046ec0f9-fd20-4a2f-e2b7-dfdf310e8d6d"
      },
      "outputs": [
        {
          "name": "stdout",
          "output_type": "stream",
          "text": [
            "Loaded 100 images...\n",
            "Loaded 200 images...\n",
            "Loaded 300 images...\n",
            "Loaded 400 images...\n",
            "Loaded 500 images...\n",
            "Loaded 600 images...\n",
            "Loaded 700 images...\n",
            "Loaded 800 images...\n",
            "Loaded 900 images...\n",
            "Loaded 1000 images...\n",
            "✅ Total images loaded: 1000\n"
          ]
        }
      ],
      "source": [
        "import os\n",
        "from PIL import Image\n",
        "import numpy as np\n",
        "\n",
        "IMG_SIZE = 64\n",
        "data = []\n",
        "labels = []\n",
        "max_images = 1000\n",
        "count = 0\n",
        "\n",
        "image_extensions = ('.jpg', '.jpeg', '.png')  # add others if needed\n",
        "\n",
        "for img_name in os.listdir(base_path):\n",
        "    if count >= max_images:\n",
        "        break\n",
        "\n",
        "    # Skip non-image files\n",
        "    if not img_name.lower().endswith(image_extensions):\n",
        "        continue\n",
        "\n",
        "    img_path = os.path.join(base_path, img_name)\n",
        "\n",
        "    try:\n",
        "        with Image.open(img_path) as img:\n",
        "            img = img.convert('L')  # grayscale\n",
        "            img = img.resize((IMG_SIZE, IMG_SIZE))\n",
        "            img = np.array(img)\n",
        "            data.append(img.flatten())\n",
        "            label = 0 if 'cat' in img_name.lower() else 1\n",
        "            labels.append(label)\n",
        "            count += 1\n",
        "\n",
        "            if count % 100 == 0:\n",
        "                print(f\"Loaded {count} images...\")\n",
        "\n",
        "    except Exception as e:\n",
        "        print(f\"Skipped {img_name}: {e}\")\n",
        "\n",
        "X = np.array(data) / 255.0\n",
        "y = np.array(labels)\n",
        "\n",
        "print(f\"✅ Total images loaded: {len(X)}\")\n"
      ]
    },
    {
      "cell_type": "code",
      "execution_count": null,
      "metadata": {
        "colab": {
          "base_uri": "https://localhost:8080/"
        },
        "id": "apFjEvGvIio3",
        "outputId": "147ee650-3e03-4de2-93f9-98ed6a127e05"
      },
      "outputs": [
        {
          "name": "stdout",
          "output_type": "stream",
          "text": [
            "✅ Model Accuracy: 0.985\n",
            "\n",
            "🧾 Classification Report:\n",
            "               precision    recall  f1-score   support\n",
            "\n",
            "           0       0.00      0.00      0.00         3\n",
            "           1       0.98      1.00      0.99       197\n",
            "\n",
            "    accuracy                           0.98       200\n",
            "   macro avg       0.49      0.50      0.50       200\n",
            "weighted avg       0.97      0.98      0.98       200\n",
            "\n"
          ]
        },
        {
          "name": "stderr",
          "output_type": "stream",
          "text": [
            "/usr/local/lib/python3.11/dist-packages/sklearn/metrics/_classification.py:1565: UndefinedMetricWarning: Precision is ill-defined and being set to 0.0 in labels with no predicted samples. Use `zero_division` parameter to control this behavior.\n",
            "  _warn_prf(average, modifier, f\"{metric.capitalize()} is\", len(result))\n",
            "/usr/local/lib/python3.11/dist-packages/sklearn/metrics/_classification.py:1565: UndefinedMetricWarning: Precision is ill-defined and being set to 0.0 in labels with no predicted samples. Use `zero_division` parameter to control this behavior.\n",
            "  _warn_prf(average, modifier, f\"{metric.capitalize()} is\", len(result))\n",
            "/usr/local/lib/python3.11/dist-packages/sklearn/metrics/_classification.py:1565: UndefinedMetricWarning: Precision is ill-defined and being set to 0.0 in labels with no predicted samples. Use `zero_division` parameter to control this behavior.\n",
            "  _warn_prf(average, modifier, f\"{metric.capitalize()} is\", len(result))\n"
          ]
        }
      ],
      "source": [
        "from sklearn.model_selection import train_test_split\n",
        "from sklearn.svm import SVC\n",
        "from sklearn.metrics import classification_report, accuracy_score\n",
        "\n",
        "# Split the data\n",
        "X_train, X_test, y_train, y_test = train_test_split(\n",
        "    X, y, test_size=0.2, random_state=42)\n",
        "\n",
        "# Train SVM classifier\n",
        "svm_model = SVC(kernel='linear')  # You can also try 'rbf' later\n",
        "svm_model.fit(X_train, y_train)\n",
        "\n",
        "# Predict and evaluate\n",
        "y_pred = svm_model.predict(X_test)\n",
        "\n",
        "print(\"Model Accuracy:\", accuracy_score(y_test, y_pred))\n",
        "print(\"\\n🧾 Classification Report:\\n\", classification_report(y_test, y_pred))\n"
      ]
    },
    {
      "cell_type": "code",
      "execution_count": null,
      "metadata": {
        "colab": {
          "base_uri": "https://localhost:8080/"
        },
        "id": "mpyYoTnsJAui",
        "outputId": "97270f84-583b-4392-88bc-2220a92afc5b"
      },
      "outputs": [
        {
          "name": "stdout",
          "output_type": "stream",
          "text": [
            "Loaded 100 images...\n",
            "Loaded 200 images...\n",
            "Loaded 300 images...\n",
            "Loaded 400 images...\n",
            "Loaded 500 images...\n",
            "Loaded 600 images...\n",
            "Loaded 700 images...\n",
            "Loaded 800 images...\n",
            "Loaded 900 images...\n",
            "Loaded 1000 images...\n",
            " Loaded 1000 images: 500 cats and 500 dogs\n"
          ]
        }
      ],
      "source": [
        "IMG_SIZE = 64\n",
        "data = []\n",
        "labels = []\n",
        "\n",
        "cat_count = 0\n",
        "dog_count = 0\n",
        "max_per_class = 500\n",
        "\n",
        "for img_name in os.listdir(base_path):\n",
        "    img_path = os.path.join(base_path, img_name)\n",
        "\n",
        "    if not img_name.lower().endswith(('.jpg', '.jpeg', '.png')):\n",
        "        continue\n",
        "\n",
        "    try:\n",
        "        label = 0 if 'cat' in img_name.lower() else 1\n",
        "\n",
        "        if label == 0 and cat_count >= max_per_class:\n",
        "            continue\n",
        "        if label == 1 and dog_count >= max_per_class:\n",
        "            continue\n",
        "\n",
        "        with Image.open(img_path) as img:\n",
        "            img = img.convert('L')  # grayscale\n",
        "            img = img.resize((IMG_SIZE, IMG_SIZE))\n",
        "            img = np.array(img)\n",
        "            data.append(img.flatten())\n",
        "            labels.append(label)\n",
        "\n",
        "            if label == 0:\n",
        "                cat_count += 1\n",
        "            else:\n",
        "                dog_count += 1\n",
        "\n",
        "            if (cat_count + dog_count) % 100 == 0:\n",
        "                print(f\"Loaded {cat_count + dog_count} images...\")\n",
        "\n",
        "        if cat_count >= max_per_class and dog_count >= max_per_class:\n",
        "            break\n",
        "\n",
        "    except Exception as e:\n",
        "        print(f\"Skipped {img_name}: {e}\")\n",
        "\n",
        "X = np.array(data) / 255.0\n",
        "y = np.array(labels)\n",
        "\n",
        "print(f\" Loaded {len(X)} images: {cat_count} cats and {dog_count} dogs\")\n"
      ]
    },
    {
      "cell_type": "code",
      "execution_count": null,
      "metadata": {
        "colab": {
          "base_uri": "https://localhost:8080/"
        },
        "id": "BpeO4dAAKeJe",
        "outputId": "20e7e171-4ef9-4b34-ac00-2b574d1aa74d"
      },
      "outputs": [
        {
          "name": "stdout",
          "output_type": "stream",
          "text": [
            "✅ Model Accuracy: 0.55\n",
            "\n",
            "🧾 Classification Report:\n",
            "               precision    recall  f1-score   support\n",
            "\n",
            "           0       0.55      0.57      0.56       100\n",
            "           1       0.55      0.53      0.54       100\n",
            "\n",
            "    accuracy                           0.55       200\n",
            "   macro avg       0.55      0.55      0.55       200\n",
            "weighted avg       0.55      0.55      0.55       200\n",
            "\n"
          ]
        }
      ],
      "source": [
        "from sklearn.model_selection import train_test_split\n",
        "from sklearn.svm import SVC\n",
        "from sklearn.metrics import classification_report, accuracy_score\n",
        "\n",
        "# Stratified train/test split to preserve cat/dog balance\n",
        "X_train, X_test, y_train, y_test = train_test_split(\n",
        "    X, y, test_size=0.2, random_state=42, stratify=y)\n",
        "\n",
        "# Train SVM model\n",
        "svm_model = SVC(kernel='linear')  # Try 'rbf' or 'poly' later for better results\n",
        "svm_model.fit(X_train, y_train)\n",
        "\n",
        "# Predict and evaluate\n",
        "y_pred = svm_model.predict(X_test)\n",
        "\n",
        "print(\"✅ Model Accuracy:\", accuracy_score(y_test, y_pred))\n",
        "print(\"\\n🧾 Classification Report:\\n\", classification_report(y_test, y_pred))\n"
      ]
    },
    {
      "cell_type": "code",
      "execution_count": null,
      "metadata": {
        "colab": {
          "base_uri": "https://localhost:8080/",
          "height": 466
        },
        "id": "YR9oMZU7KkRJ",
        "outputId": "8f1c2052-1ba8-4408-b7dc-4d04898aa4d3"
      },
      "outputs": [
        {
          "data": {
            "text/plain": [
              "<sklearn.metrics._plot.confusion_matrix.ConfusionMatrixDisplay at 0x78581e3601d0>"
            ]
          },
          "execution_count": 16,
          "metadata": {},
          "output_type": "execute_result"
        },
        {
          "data": {
            "image/png": "[encoded data removed]",
            "text/plain": [
              "<Figure size 640x480 with 2 Axes>"
            ]
          },
          "metadata": {},
          "output_type": "display_data"
        }
      ],
      "source": [
        "from sklearn.metrics import confusion_matrix, ConfusionMatrixDisplay\n",
        "\n",
        "# Compute confusion matrix\n",
        "cm = confusion_matrix(y_test, y_pred)\n",
        "\n",
        "# Display it\n",
        "disp = ConfusionMatrixDisplay(confusion_matrix=cm, display_labels=['Cat', 'Dog'])\n",
        "disp.plot(cmap='Blues')  # Use 'Oranges' or other for style\n",
        "---"
      ]
    },
    {
      "cell_type": "code",
      "execution_count": null,
      "metadata": {
        "colab": {
          "base_uri": "https://localhost:8080/"
        },
        "id": "w-Y36ikeOEXf",
        "outputId": "8561def5-1b9d-4733-b4cd-eeb5b041720b"
      },
      "outputs": [
        {
          "name": "stdout",
          "output_type": "stream",
          "text": [
            "Requirement already satisfied: tensorflow in /usr/local/lib/python3.11/dist-packages (2.18.0)\n",
            "Requirement already satisfied: absl-py>=1.0.0 in /usr/local/lib/python3.11/dist-packages (from tensorflow) (1.4.0)\n",
            "Requirement already satisfied: astunparse>=1.6.0 in /usr/local/lib/python3.11/dist-packages (from tensorflow) (1.6.3)\n",
            "Requirement already satisfied: flatbuffers>=24.3.25 in /usr/local/lib/python3.11/dist-packages (from tensorflow) (25.2.10)\n",
            "Requirement already satisfied: gast!=0.5.0,!=0.5.1,!=0.5.2,>=0.2.1 in /usr/local/lib/python3.11/dist-packages (from tensorflow) (0.6.0)\n",
            "Requirement already satisfied: google-pasta>=0.1.1 in /usr/local/lib/python3.11/dist-packages (from tensorflow) (0.2.0)\n",
            "Requirement already satisfied: libclang>=13.0.0 in /usr/local/lib/python3.11/dist-packages (from tensorflow) (18.1.1)\n",
            "Requirement already satisfied: opt-einsum>=2.3.2 in /usr/local/lib/python3.11/dist-packages (from tensorflow) (3.4.0)\n",
            "Requirement already satisfied: packaging in /usr/local/lib/python3.11/dist-packages (from tensorflow) (25.0)\n",
            "Requirement already satisfied: protobuf!=4.21.0,!=4.21.1,!=4.21.2,!=4.21.3,!=4.21.4,!=4.21.5,<6.0.0dev,>=3.20.3 in /usr/local/lib/python3.11/dist-packages (from tensorflow) (5.29.5)\n",
            "Requirement already satisfied: requests<3,>=2.21.0 in /usr/local/lib/python3.11/dist-packages (from tensorflow) (2.32.3)\n",
            "Requirement already satisfied: setuptools in /usr/local/lib/python3.11/dist-packages (from tensorflow) (75.2.0)\n",
            "Requirement already satisfied: six>=1.12.0 in /usr/local/lib/python3.11/dist-packages (from tensorflow) (1.17.0)\n",
            "Requirement already satisfied: termcolor>=1.1.0 in /usr/local/lib/python3.11/dist-packages (from tensorflow) (3.1.0)\n",
            "Requirement already satisfied: typing-extensions>=3.6.6 in /usr/local/lib/python3.11/dist-packages (from tensorflow) (4.14.1)\n",
            "Requirement already satisfied: wrapt>=1.11.0 in /usr/local/lib/python3.11/dist-packages (from tensorflow) (1.17.2)\n",
            "Requirement already satisfied: grpcio<2.0,>=1.24.3 in /usr/local/lib/python3.11/dist-packages (from tensorflow) (1.74.0)\n",
            "Requirement already satisfied: tensorboard<2.19,>=2.18 in /usr/local/lib/python3.11/dist-packages (from tensorflow) (2.18.0)\n",
            "Requirement already satisfied: keras>=3.5.0 in /usr/local/lib/python3.11/dist-packages (from tensorflow) (3.8.0)\n",
            "Requirement already satisfied: numpy<2.1.0,>=1.26.0 in /usr/local/lib/python3.11/dist-packages (from tensorflow) (2.0.2)\n",
            "Requirement already satisfied: h5py>=3.11.0 in /usr/local/lib/python3.11/dist-packages (from tensorflow) (3.14.0)\n",
            "Requirement already satisfied: ml-dtypes<0.5.0,>=0.4.0 in /usr/local/lib/python3.11/dist-packages (from tensorflow) (0.4.1)\n",
            "Requirement already satisfied: tensorflow-io-gcs-filesystem>=0.23.1 in /usr/local/lib/python3.11/dist-packages (from tensorflow) (0.37.1)\n",
            "Requirement already satisfied: wheel<1.0,>=0.23.0 in /usr/local/lib/python3.11/dist-packages (from astunparse>=1.6.0->tensorflow) (0.45.1)\n",
            "Requirement already satisfied: rich in /usr/local/lib/python3.11/dist-packages (from keras>=3.5.0->tensorflow) (13.9.4)\n",
            "Requirement already satisfied: namex in /usr/local/lib/python3.11/dist-packages (from keras>=3.5.0->tensorflow) (0.1.0)\n",
            "Requirement already satisfied: optree in /usr/local/lib/python3.11/dist-packages (from keras>=3.5.0->tensorflow) (0.17.0)\n",
            "Requirement already satisfied: charset-normalizer<4,>=2 in /usr/local/lib/python3.11/dist-packages (from requests<3,>=2.21.0->tensorflow) (3.4.2)\n",
            "Requirement already satisfied: idna<4,>=2.5 in /usr/local/lib/python3.11/dist-packages (from requests<3,>=2.21.0->tensorflow) (3.10)\n",
            "Requirement already satisfied: urllib3<3,>=1.21.1 in /usr/local/lib/python3.11/dist-packages (from requests<3,>=2.21.0->tensorflow) (2.5.0)\n",
            "Requirement already satisfied: certifi>=2017.4.17 in /usr/local/lib/python3.11/dist-packages (from requests<3,>=2.21.0->tensorflow) (2025.7.14)\n",
            "Requirement already satisfied: markdown>=2.6.8 in /usr/local/lib/python3.11/dist-packages (from tensorboard<2.19,>=2.18->tensorflow) (3.8.2)\n",
            "Requirement already satisfied: tensorboard-data-server<0.8.0,>=0.7.0 in /usr/local/lib/python3.11/dist-packages (from tensorboard<2.19,>=2.18->tensorflow) (0.7.2)\n",
            "Requirement already satisfied: werkzeug>=1.0.1 in /usr/local/lib/python3.11/dist-packages (from tensorboard<2.19,>=2.18->tensorflow) (3.1.3)\n",
            "Requirement already satisfied: MarkupSafe>=2.1.1 in /usr/local/lib/python3.11/dist-packages (from werkzeug>=1.0.1->tensorboard<2.19,>=2.18->tensorflow) (3.0.2)\n",
            "Requirement already satisfied: markdown-it-py>=2.2.0 in /usr/local/lib/python3.11/dist-packages (from rich->keras>=3.5.0->tensorflow) (3.0.0)\n",
            "Requirement already satisfied: pygments<3.0.0,>=2.13.0 in /usr/local/lib/python3.11/dist-packages (from rich->keras>=3.5.0->tensorflow) (2.19.2)\n",
            "Requirement already satisfied: mdurl~=0.1 in /usr/local/lib/python3.11/dist-packages (from markdown-it-py>=2.2.0->rich->keras>=3.5.0->tensorflow) (0.1.2)\n"
          ]
        }
      ],
      "source": [
        "!pip install tensorflow\n"
      ]
    },
    {
      "cell_type": "code",
      "execution_count": null,
      "metadata": {
        "id": "Pt5eG6bUOfPt"
      },
      "outputs": [],
      "source": [
        "import numpy as np\n",
        "import os\n",
        "from tensorflow.keras.preprocessing import image\n",
        "from tensorflow.keras.applications.vgg16 import VGG16, preprocess_input\n",
        "from tensorflow.keras.models import Model\n"
      ]
    },
    {
      "cell_type": "code",
      "execution_count": null,
      "metadata": {
        "id": "YVh-WQuuO1PO"
      },
      "outputs": [],
      "source": [
        "IMG_SIZE = 224\n"
      ]
    },
    {
      "cell_type": "code",
      "execution_count": null,
      "metadata": {
        "id": "-dDuY8i3O4My"
      },
      "outputs": [],
      "source": [
        "base_path = \"/content/drive/MyDrive/Cats_Dogs_ML_Dataset/train/train/\"\n"
      ]
    },
    {
      "cell_type": "code",
      "execution_count": null,
      "metadata": {
        "colab": {
          "background_save": true,
          "base_uri": "https://localhost:8080/"
        },
        "id": "Ab8aGcEBPACW",
        "outputId": "275bc8f9-4893-4972-c805-a95baf0568e2"
      },
      "outputs": [
        {
          "name": "stdout",
          "output_type": "stream",
          "text": [
            "Loaded 100 images...\n",
            "Loaded 200 images...\n",
            "Loaded 300 images...\n",
            "Loaded 400 images...\n",
            "Loaded 500 images...\n",
            "Loaded 600 images...\n",
            "Loaded 700 images...\n",
            "Loaded 800 images...\n",
            "Loaded 900 images...\n",
            "Loaded 1000 images...\n",
            "Shape of X: (1000, 224, 224, 3)\n",
            "Shape of y: (1000,)\n"
          ]
        }
      ],
      "source": [
        "from tensorflow.keras.preprocessing import image\n",
        "from tensorflow.keras.applications.vgg16 import preprocess_input\n",
        "\n",
        "X = []\n",
        "y = []\n",
        "\n",
        "max_images = 1000  # or less if Colab crashes\n",
        "count = 0\n",
        "\n",
        "for img_name in os.listdir(base_path):\n",
        "    if count >= max_images:\n",
        "        break\n",
        "    if img_name.endswith(('.jpg', '.jpeg', '.png')):\n",
        "        img_path = os.path.join(base_path, img_name)\n",
        "\n",
        "        # Load and resize image\n",
        "        img = image.load_img(img_path, target_size=(224, 224))\n",
        "        img_array = image.img_to_array(img)\n",
        "        img_array = preprocess_input(img_array)  # VGG16 preprocessing\n",
        "\n",
        "        X.append(img_array)\n",
        "\n",
        "        # Label encoding: cat = 0, dog = 1\n",
        "        label = 0 if \"cat\" in img_name.lower() else 1\n",
        "        y.append(label)\n",
        "\n",
        "        count += 1\n",
        "        if count % 100 == 0:\n",
        "            print(f\"Loaded {count} images...\")\n",
        "\n",
        "# Convert to numpy arrays\n",
        "X = np.array(X)\n",
        "y = np.array(y)\n",
        "\n",
        "print(\"Shape of X:\", X.shape)\n",
        "print(\"Shape of y:\", y.shape)\n"
      ]
    },
    {
      "cell_type": "code",
      "source": [
        "from tensorflow.keras.applications.vgg16 import VGG16\n",
        "from tensorflow.keras.models import Model\n",
        "\n",
        "# Load VGG16 model without top layers\n",
        "base_model = VGG16(weights='imagenet', include_top=False, input_shape=(224, 224, 3))\n",
        "\n",
        "# We'll use the output from the last convolutional block\n",
        "model = Model(inputs=base_model.input, outputs=base_model.output)\n",
        "\n",
        "# Extract features\n",
        "features = model.predict(X, batch_size=32, verbose=1)\n",
        "\n",
        "# Flatten features to feed into SVM\n",
        "X_features = features.reshape(features.shape[0], -1)\n",
        "\n",
        "print(\"Extracted Features Shape:\", X_features.shape)\n"
      ],
      "metadata": {
        "colab": {
          "base_uri": "https://localhost:8080/"
        },
        "id": "9d7FSuorSu0c",
        "outputId": "39b78b4b-08f8-4a0d-9d73-52d5898f6f79"
      },
      "execution_count": 22,
      "outputs": [
        {
          "output_type": "stream",
          "name": "stdout",
          "text": [
            "Downloading data from https://storage.googleapis.com/tensorflow/keras-applications/vgg16/vgg16_weights_tf_dim_ordering_tf_kernels_notop.h5\n",
            "\u001b[1m58889256/58889256\u001b[0m \u001b[32m━━━━━━━━━━━━━━━━━━━━\u001b[0m\u001b[37m\u001b[0m \u001b[1m0s\u001b[0m 0us/step\n",
            "\u001b[1m32/32\u001b[0m \u001b[32m━━━━━━━━━━━━━━━━━━━━\u001b[0m\u001b[37m\u001b[0m \u001b[1m601s\u001b[0m 18s/step\n",
            "Extracted Features Shape: (1000, 25088)\n"
          ]
        }
      ]
    },
    {
      "cell_type": "code",
      "source": [
        "from sklearn.model_selection import train_test_split\n",
        "from sklearn.svm import SVC\n",
        "from sklearn.metrics import classification_report, accuracy_score, confusion_matrix, ConfusionMatrixDisplay\n",
        "\n",
        "# Split the VGG16 features and labels\n",
        "X_train, X_test, y_train, y_test = train_test_split(X_features, y, test_size=0.2, random_state=42, stratify=y)\n",
        "\n",
        "# Train the SVM on VGG16 features\n",
        "svm_model = SVC(kernel='linear')  # You can try 'rbf' or 'poly' later\n",
        "svm_model.fit(X_train, y_train)\n",
        "\n",
        "# Predict and evaluate\n",
        "y_pred = svm_model.predict(X_test)\n",
        "print(\" Model Accuracy:\", accuracy_score(y_test, y_pred))\n",
        "print(\"\\n📊Classification Report:\\n\", classification_report(y_test, y_pred))\n",
        "\n",
        "# Confusion matrix\n",
        "cm = confusion_matrix(y_test, y_pred)\n",
        "disp = ConfusionMatrixDisplay(confusion_matrix=cm, display_labels=['Cat', 'Dog'])\n",
        "disp.plot(cmap='Blues')\n"
      ],
      "metadata": {
        "colab": {
          "base_uri": "https://localhost:8080/",
          "height": 686
        },
        "id": "RwpxncwdVYJa",
        "outputId": "63938009-ba37-4c6d-f82f-fc620271693c"
      },
      "execution_count": 23,
      "outputs": [
        {
          "output_type": "stream",
          "name": "stdout",
          "text": [
            " Model Accuracy: 0.99\n",
            "\n",
            "📊Classification Report:\n",
            "               precision    recall  f1-score   support\n",
            "\n",
            "           0       1.00      0.33      0.50         3\n",
            "           1       0.99      1.00      0.99       197\n",
            "\n",
            "    accuracy                           0.99       200\n",
            "   macro avg       0.99      0.67      0.75       200\n",
            "weighted avg       0.99      0.99      0.99       200\n",
            "\n"
          ]
        },
        {
          "output_type": "execute_result",
          "data": {
            "text/plain": [
              "<sklearn.metrics._plot.confusion_matrix.ConfusionMatrixDisplay at 0x78581efe1850>"
            ]
          },
          "metadata": {},
          "execution_count": 23
        },
        {
          "output_type": "display_data",
          "data": {
            "text/plain": [
              "<Figure size 640x480 with 2 Axes>"
            ],
            "image/png": "[encoded data removed]"
          },
          "metadata": {}
        }
      ]
    },
    {
      "cell_type": "code",
      "source": [
        "import numpy as np\n",
        "unique, counts = np.unique(y_test, return_counts=True)\n",
        "print(\"Test set label distribution:\", dict(zip(unique, counts)))\n"
      ],
      "metadata": {
        "colab": {
          "base_uri": "https://localhost:8080/"
        },
        "id": "eh_9AjHoWMuA",
        "outputId": "beadd074-096c-4ebc-9c3a-34e27538752f"
      },
      "execution_count": 24,
      "outputs": [
        {
          "output_type": "stream",
          "name": "stdout",
          "text": [
            "Test set label distribution: {np.int64(0): np.int64(3), np.int64(1): np.int64(197)}\n"
          ]
        }
      ]
    },
    {
      "cell_type": "code",
      "source": [
        "X = []\n",
        "y = []\n",
        "\n",
        "# Load exactly 500 cats and 500 dogs\n",
        "cat_images = sorted([f for f in os.listdir(base_path) if 'cat' in f.lower()])[:500]\n",
        "dog_images = sorted([f for f in os.listdir(base_path) if 'dog' in f.lower()])[:500]\n",
        "\n",
        "for img_name in cat_images + dog_images:\n",
        "    img_path = os.path.join(base_path, img_name)\n",
        "    img = image.load_img(img_path, target_size=(224, 224))\n",
        "    img_array = image.img_to_array(img)\n",
        "    img_array = preprocess_input(img_array)\n",
        "    X.append(img_array)\n",
        "\n",
        "    label = 0 if 'cat' in img_name.lower() else 1\n",
        "    y.append(label)\n",
        "\n",
        "X = np.array(X)\n",
        "y = np.array(y)\n",
        "\n",
        "print(\"✅ Loaded Balanced Data:\", X.shape, y.shape)\n",
        "print(\"Label counts:\", dict(zip(*np.unique(y, return_counts=True))))\n"
      ],
      "metadata": {
        "colab": {
          "base_uri": "https://localhost:8080/"
        },
        "id": "Xn_JL0BRWhon",
        "outputId": "18b7a0c3-d590-44d2-d941-c37157c024c1"
      },
      "execution_count": 25,
      "outputs": [
        {
          "output_type": "stream",
          "name": "stdout",
          "text": [
            "✅ Loaded Balanced Data: (1000, 224, 224, 3) (1000,)\n",
            "Label counts: {np.int64(0): np.int64(500), np.int64(1): np.int64(500)}\n"
          ]
        }
      ]
    },
    {
      "cell_type": "code",
      "source": [
        "# Re-import if needed\n",
        "from tensorflow.keras.applications import VGG16\n",
        "from tensorflow.keras.models import Model\n",
        "\n",
        "# Load pretrained VGG16\n",
        "base_model = VGG16(weights='imagenet', include_top=False, input_shape=(224,224,3))\n",
        "model = Model(inputs=base_model.input, outputs=base_model.output)\n",
        "\n",
        "# Extract features\n",
        "features = model.predict(X, batch_size=32, verbose=1)\n",
        "\n",
        "# Flatten for SVM\n",
        "X_features = features.reshape(features.shape[0], -1)\n",
        "print(\"Extracted Features Shape:\", X_features.shape)\n"
      ],
      "metadata": {
        "colab": {
          "base_uri": "https://localhost:8080/"
        },
        "id": "d9gz0YmWYemq",
        "outputId": "d7d9fb14-65a8-4383-f59a-d40dfc064c4e"
      },
      "execution_count": 26,
      "outputs": [
        {
          "output_type": "stream",
          "name": "stdout",
          "text": [
            "\u001b[1m32/32\u001b[0m \u001b[32m━━━━━━━━━━━━━━━━━━━━\u001b[0m\u001b[37m\u001b[0m \u001b[1m591s\u001b[0m 18s/step\n",
            "Extracted Features Shape: (1000, 25088)\n"
          ]
        }
      ]
    },
    {
      "cell_type": "code",
      "source": [
        "from sklearn.model_selection import train_test_split\n",
        "from sklearn.svm import SVC\n",
        "from sklearn.metrics import classification_report, accuracy_score, confusion_matrix, ConfusionMatrixDisplay\n",
        "import matplotlib.pyplot as plt\n",
        "\n",
        "# Train/test split with stratify (very important)\n",
        "X_train, X_test, y_train, y_test = train_test_split(\n",
        "    X_features, y, test_size=0.2, random_state=42, stratify=y\n",
        ")\n",
        "\n",
        "# Train SVM\n",
        "svm_model = SVC(kernel='linear')\n",
        "svm_model.fit(X_train, y_train)\n",
        "\n",
        "# Predict and evaluate\n",
        "y_pred = svm_model.predict(X_test)\n",
        "\n",
        "print(\"✅ Accuracy:\", accuracy_score(y_test, y_pred))\n",
        "print(\"\\n📊 Classification Report:\\n\", classification_report(y_test, y_pred))\n",
        "\n",
        "# Confusion Matrix\n",
        "cm = confusion_matrix(y_test, y_pred)\n",
        "disp = ConfusionMatrixDisplay(confusion_matrix=cm, display_labels=['Cat', 'Dog'])\n",
        "disp.plot(cmap='Blues')\n",
        "plt.show()\n"
      ],
      "metadata": {
        "colab": {
          "base_uri": "https://localhost:8080/",
          "height": 668
        },
        "id": "jmI1c7Hqb4zc",
        "outputId": "58bba0d8-5146-4207-e524-3dc843903dc4"
      },
      "execution_count": 27,
      "outputs": [
        {
          "output_type": "stream",
          "name": "stdout",
          "text": [
            "✅ Accuracy: 0.975\n",
            "\n",
            "📊 Classification Report:\n",
            "               precision    recall  f1-score   support\n",
            "\n",
            "           0       0.96      0.99      0.98       100\n",
            "           1       0.99      0.96      0.97       100\n",
            "\n",
            "    accuracy                           0.97       200\n",
            "   macro avg       0.98      0.97      0.97       200\n",
            "weighted avg       0.98      0.97      0.97       200\n",
            "\n"
          ]
        },
        {
          "output_type": "display_data",
          "data": {
            "text/plain": [
              "<Figure size 640x480 with 2 Axes>"
            ],
            "image/png": "[encoded data removed]"
          },
          "metadata": {}
        }
      ]
    }
  ],
  "metadata": {
    "colab": {
      "provenance": []
    },
    "kernelspec": {
      "display_name": "Python 3",
      "name": "python3"
    },
    "language_info": {
      "name": "python"
    }
  },
  "nbformat": 4,
  "nbformat_minor": 0
}